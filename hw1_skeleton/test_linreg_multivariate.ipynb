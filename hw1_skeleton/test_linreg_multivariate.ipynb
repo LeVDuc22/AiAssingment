{
 "cells": [
  {
   "cell_type": "code",
   "execution_count": 1,
   "id": "28512e65",
   "metadata": {},
   "outputs": [
    {
     "ename": "SyntaxError",
     "evalue": "Missing parentheses in call to 'print'. Did you mean print(...)? (linreg.py, line 36)",
     "output_type": "error",
     "traceback": [
      "Traceback \u001b[1;36m(most recent call last)\u001b[0m:\n",
      "\u001b[0m  File \u001b[0;32m~\\anaconda3\\Lib\\site-packages\\IPython\\core\\interactiveshell.py:3526\u001b[0m in \u001b[0;35mrun_code\u001b[0m\n    exec(code_obj, self.user_global_ns, self.user_ns)\u001b[0m\n",
      "\u001b[1;36m  Cell \u001b[1;32mIn[1], line 5\u001b[1;36m\n\u001b[1;33m    from linreg import LinearRegression\u001b[1;36m\n",
      "\u001b[1;36m  File \u001b[1;32m~\\Desktop\\Hust\\2023.1\\AI\\Assigment8\\CIS419\\Assignment1\\hw1_skeleton\\linreg.py:36\u001b[1;36m\u001b[0m\n\u001b[1;33m    print \"Iteration: \", i+1, \" Cost: \", self.JHist[i][0], \" Theta: \", theta\u001b[0m\n\u001b[1;37m    ^\u001b[0m\n\u001b[1;31mSyntaxError\u001b[0m\u001b[1;31m:\u001b[0m Missing parentheses in call to 'print'. Did you mean print(...)?\n"
     ]
    }
   ],
   "source": [
    "import numpy as np\n",
    "from numpy.linalg import *\n",
    "import os\n",
    "# our linear regression class\n",
    "from linreg import LinearRegression\n",
    "current_directory = os.getcwd()\n",
    "filePath = os.path.join(current_directory, 'data/multivariateData.dat')\n",
    "file = open(filePath,'r')\n",
    "allData = np.loadtxt(file, delimiter=',')\n",
    "\n",
    "X = np.matrix(allData[:,:-1])\n",
    "y = np.matrix((allData[:,-1])).T\n",
    "\n",
    "n,d = X.shape\n",
    "    \n",
    "    # Standardize\n",
    "mean = X.mean(axis=0)\n",
    "std = X.std(axis=0)\n",
    "X = (X - mean) / std\n",
    "    \n",
    "    # Add a row of ones for the bias term\n",
    "X = np.c_[np.ones((n,1)), X]\n",
    "    \n",
    "    # initialize the model\n",
    "init_theta = np.matrix(np.random.randn((d+1))).T\n",
    "n_iter = 2000\n",
    "alpha = 0.01\n",
    "\n",
    "    # Instantiate objects\n",
    "lr_model = LinearRegression(init_theta = init_theta, alpha = alpha, n_iter = n_iter)\n",
    "lr_model.fit(X,y)\n",
    "\n",
    "    # Compute the closed form solution in one line of code\n",
    "thetaClosedForm = 0  # TODO:  replace \"0\" with closed form solution\n",
    "print(\"thetaClosedForm: \", thetaClosedForm)"
   ]
  },
  {
   "cell_type": "code",
   "execution_count": null,
   "id": "053b54a5",
   "metadata": {},
   "outputs": [],
   "source": []
  }
 ],
 "metadata": {
  "kernelspec": {
   "display_name": "Python 3 (ipykernel)",
   "language": "python",
   "name": "python3"
  },
  "language_info": {
   "codemirror_mode": {
    "name": "ipython",
    "version": 3
   },
   "file_extension": ".py",
   "mimetype": "text/x-python",
   "name": "python",
   "nbconvert_exporter": "python",
   "pygments_lexer": "ipython3",
   "version": "3.11.5"
  }
 },
 "nbformat": 4,
 "nbformat_minor": 5
}
